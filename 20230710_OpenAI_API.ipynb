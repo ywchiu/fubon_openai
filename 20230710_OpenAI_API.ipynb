{
  "nbformat": 4,
  "nbformat_minor": 0,
  "metadata": {
    "colab": {
      "provenance": []
    },
    "kernelspec": {
      "name": "python3",
      "display_name": "Python 3"
    },
    "language_info": {
      "name": "python"
    }
  },
  "cells": [
    {
      "cell_type": "markdown",
      "source": [
        "## OpenAI API\n",
        "- https://platform.openai.com/docs/introduction"
      ],
      "metadata": {
        "id": "SAwzXYN1YuB9"
      }
    },
    {
      "cell_type": "code",
      "source": [
        "! pip install openai"
      ],
      "metadata": {
        "id": "ByWIUolFY8YF"
      },
      "execution_count": null,
      "outputs": []
    },
    {
      "cell_type": "code",
      "execution_count": null,
      "metadata": {
        "id": "09FIfRz2Yojx"
      },
      "outputs": [],
      "source": [
        "TOKEN = 'sk-C'"
      ]
    },
    {
      "cell_type": "markdown",
      "source": [
        "### GPT Completion"
      ],
      "metadata": {
        "id": "RL-rzZD4aLoS"
      }
    },
    {
      "cell_type": "code",
      "source": [
        "import openai\n",
        "\n",
        "openai.api_key = TOKEN\n",
        "res = openai.Completion.create(\n",
        "  model=\"text-davinci-003\",\n",
        "  prompt=\"請介紹什麼是ChatGPT\",\n",
        "  max_tokens = 1000\n",
        ")\n",
        "\n",
        "print(res.choices[0].text)"
      ],
      "metadata": {
        "colab": {
          "base_uri": "https://localhost:8080/"
        },
        "id": "f4nF0VtzZDdE",
        "outputId": "150b7dd4-0c51-41ee-c8a9-040b23fa6ddf"
      },
      "execution_count": null,
      "outputs": [
        {
          "output_type": "stream",
          "name": "stdout",
          "text": [
            "\n",
            "\n",
            "ChatGPT (Chat Generative Pre-trained Transformer) 是一種基於文字生成的預訓練轉換器架構，可以用於應用於自然語言生成的任務。它是在 GPT2 上修訂而成，並在聊天機器人中使用，可以生成上下文相關的休閒及對話。ChatGPT 可用於 Facebook Messenger、Slack 和 WeChat 應用程序中，利用該技術能夠增加有意義并符合語境的答案。它可以根據自然語言來自動生成聊天機器人的話語，對於用戶的問題做出真實的回答，改善客戶服務經驗。\n"
          ]
        }
      ]
    },
    {
      "cell_type": "code",
      "source": [
        "script = \"\"\"\n",
        "User: 請幫我新上架的人工智慧語音轉文字雲服務，寫個100字介紹文\n",
        "AI: 人工智慧語音轉文字雲服務，專為企業客戶而生。服務利用即時技術將每一個語音檔案轉換成文字，可支援多種語言，能夠提供不受限的內容轉換，讓你的工作效率最大化。此外，我們的服務不受網路速度限制，功能強大而易於使用，可根據個性需求定制解決方案。我們的服務具有高精度的語音轉換能力，可支援多種非常多的口音和語境，實現無縫接軌的文字服務和轉換。總之，沒有比人工智慧語音轉文字雲服務更好的方式來轉換文字了。\n",
        "User: 請根據介紹文幫我產生一個朗朗上口的標題\n",
        "\"\"\"\n",
        "res = openai.Completion.create(\n",
        " model=\"text-davinci-003\",\n",
        " prompt=script,\n",
        " max_tokens = 1000\n",
        ")\n",
        "\n",
        "print(res.choices[0].text)\n",
        "\n"
      ],
      "metadata": {
        "colab": {
          "base_uri": "https://localhost:8080/"
        },
        "id": "RQQaTQn-ZPAF",
        "outputId": "e7a34ede-5fc8-4900-a169-ce754762ee79"
      },
      "execution_count": null,
      "outputs": [
        {
          "output_type": "stream",
          "name": "stdout",
          "text": [
            "AI: 人工智慧語音轉文字：無縫接軌的高精度轉文服務！\n"
          ]
        }
      ]
    },
    {
      "cell_type": "markdown",
      "source": [
        "### GPT Chat"
      ],
      "metadata": {
        "id": "wAqVYtDoaQOt"
      }
    },
    {
      "cell_type": "code",
      "source": [
        "product = \"人工智慧語音轉文字雲服務\"\n",
        "\n",
        "completion = openai.ChatCompletion.create(\n",
        " model=\"gpt-3.5-turbo\",\n",
        " messages=[\n",
        "  {\"role\": \"user\", \"content\": f\"請幫我新上架的{product}, 寫個100字介紹文\"},\n",
        "  {\"role\": \"assistant\", \"content\": \"我們的新上架人工智慧語音轉文字雲服務，是一種高效、方便的文字轉換工具，可以將人類發出的語音轉換為文字。使用者只需錄製自己的語音，上傳至平台，即可快速獲得轉換後的文字內容。本服務採用了最先進的語音辨識技術，能夠準確辨識各種不同語言和口音，支援多種檔案格式。無論是研究工作還是商務會議，都能夠有效提高工作效率，節省大量時間。歡迎大家體驗這一嶄新且實用的服務！\"},\n",
        "  {\"role\": \"user\", \"content\": \"請根據介紹文幫我產生一個朗朗上口的標題\"}]\n",
        ")\n",
        "print(completion.choices[0].message.content)"
      ],
      "metadata": {
        "colab": {
          "base_uri": "https://localhost:8080/"
        },
        "id": "0gFxXVVLaRMv",
        "outputId": "7c34d26b-f151-4d5c-c5ea-79d27852ee29"
      },
      "execution_count": null,
      "outputs": [
        {
          "output_type": "stream",
          "name": "stdout",
          "text": [
            "「即錄即換，高效語音轉文字服務讓工作無負擔！」\n"
          ]
        }
      ]
    },
    {
      "cell_type": "markdown",
      "source": [
        "## LangChain"
      ],
      "metadata": {
        "id": "p1IDxMKB4bT1"
      }
    },
    {
      "cell_type": "code",
      "source": [
        "! pip install langchain"
      ],
      "metadata": {
        "id": "pIaeyZyH4frf"
      },
      "execution_count": null,
      "outputs": []
    },
    {
      "cell_type": "markdown",
      "source": [
        "### LangChain Chat 範例"
      ],
      "metadata": {
        "id": "AEj884fJ_IPz"
      }
    },
    {
      "cell_type": "code",
      "source": [
        "from langchain.chat_models import ChatOpenAI\n",
        "\n",
        "from langchain.prompts.chat import (\n",
        "  ChatPromptTemplate,\n",
        "  SystemMessagePromptTemplate,\n",
        "  HumanMessagePromptTemplate,\n",
        ")\n",
        "\n",
        "chat = ChatOpenAI(temperature=0, openai_api_key = TOKEN)\n",
        "\n",
        "template=\" 請幫我新上架的{product}，寫個100字介紹文\"\n",
        "system_message_prompt = SystemMessagePromptTemplate.from_template(template)\n",
        "human_template=\"請根據介紹文幫我產生一個朗朗上口的標題\"\n",
        "human_message_prompt = HumanMessagePromptTemplate.from_template(human_template)\n",
        "chat_prompt = ChatPromptTemplate.from_messages([system_message_prompt, human_message_prompt])\n",
        "\n",
        "ret = chat(chat_prompt.format_prompt(product=\"人工智慧語音轉文字雲服務\").to_messages())\n",
        "\n",
        "ret.content"
      ],
      "metadata": {
        "id": "KIyObBUnaVgv"
      },
      "execution_count": null,
      "outputs": []
    },
    {
      "cell_type": "markdown",
      "source": [
        "### Document Loading"
      ],
      "metadata": {
        "id": "2N_CSvZ4_N-J"
      }
    },
    {
      "cell_type": "code",
      "source": [
        "! gdown https://drive.google.com/uc?id=1Z_ww5ZASdIq0uZrg8jt_d7E_PzFQdYH-"
      ],
      "metadata": {
        "colab": {
          "base_uri": "https://localhost:8080/"
        },
        "id": "jIe7PXnx_Pzk",
        "outputId": "756778c0-58d6-444f-ecdc-f3d45ec6a76b"
      },
      "execution_count": null,
      "outputs": [
        {
          "output_type": "stream",
          "name": "stdout",
          "text": [
            "Downloading...\n",
            "From: https://drive.google.com/uc?id=1Z_ww5ZASdIq0uZrg8jt_d7E_PzFQdYH-\n",
            "To: /content/TSMC2023Q1.zip\n",
            "\r  0% 0.00/10.7M [00:00<?, ?B/s]\r100% 10.7M/10.7M [00:00<00:00, 108MB/s]\n"
          ]
        }
      ]
    },
    {
      "cell_type": "code",
      "source": [
        "! unzip TSMC2023Q1.zip"
      ],
      "metadata": {
        "colab": {
          "base_uri": "https://localhost:8080/"
        },
        "id": "HNJGu4ip_0Lw",
        "outputId": "bf98dfe3-8b04-4c7d-d52d-bf41539bdb7c"
      },
      "execution_count": null,
      "outputs": [
        {
          "output_type": "stream",
          "name": "stdout",
          "text": [
            "Archive:  TSMC2023Q1.zip\n",
            "replace TSMC2023Q1/20230330 TSMC Citi.pdf? [y]es, [n]o, [A]ll, [N]one, [r]ename: "
          ]
        }
      ]
    },
    {
      "cell_type": "code",
      "source": [
        "from langchain.document_loaders import PyPDFLoader\n",
        "loader = PyPDFLoader('TSMC2023Q1/20230330 TSMC Citi.pdf')"
      ],
      "metadata": {
        "id": "4AXepYFhBlG2"
      },
      "execution_count": null,
      "outputs": []
    },
    {
      "cell_type": "code",
      "source": [
        "pages = loader.load()\n",
        "len(pages)"
      ],
      "metadata": {
        "colab": {
          "base_uri": "https://localhost:8080/"
        },
        "id": "jvOXrbUvB7vJ",
        "outputId": "7a09a8e4-07ef-4812-c4fa-731f532c2820"
      },
      "execution_count": null,
      "outputs": [
        {
          "output_type": "execute_result",
          "data": {
            "text/plain": [
              "15"
            ]
          },
          "metadata": {},
          "execution_count": 52
        }
      ]
    },
    {
      "cell_type": "code",
      "source": [
        "pages[0].page_content"
      ],
      "metadata": {
        "colab": {
          "base_uri": "https://localhost:8080/",
          "height": 250
        },
        "id": "BxPiSZ86B_DY",
        "outputId": "8cb80d6b-2877-496f-9c8a-80cb9291f922"
      },
      "execution_count": null,
      "outputs": [
        {
          "output_type": "execute_result",
          "data": {
            "text/plain": [
              "'See Appendix A-1 for Analyst Certification, Important Disclosures and Research Analyst Affiliations.\\nCiti Research is a division of Citigroup Global Markets Inc. (the \"Firm\"), which does and seeks to do business with companies covered in its research \\nreports. As a result, investors should be aware that the Firm may have a conflict of interest that could affect the objectivity of this report. Investors should \\nconsider this report as only a single factor in making their investment decision. Certain products (not inconsistent with the author\\'s published research) are \\navailable only on Citi\\'s portals.30 Mar 2023 07:47:50 ET │ 15 pages   \\n \\nTSMC (2330.TW)\\nAssessing the Potential Upside from AI \\nCITI\\'S TAKE \\nAI is witnessing a potential “iPhone moment” and should be a L-T catalyst in \\nthe semi industry, despite still small contribution at current early stage. nVidia \\ndominates the data center GPU market for now, while we expect to see more \\nAI chips in future designed by hyperscalers, including Google’s TPU, AWS’ \\nASIC, and the upcoming ASIC from Microsoft that adopts TSMC’s 6nm \\nprocess. While we believe nVidia only accounts for single-digit % of TSMC’s \\nsales, we project it to contribute >10% of TSMC’s revenue in three years.\\nGPU-based data center is at early stage — Thanks to emergence of generative AI \\napplications, various media (incl. DigiTimes 23 Feb) reported rush orders to TSMC \\nfrom nVidia. Based on IDC’s report, c.3m units of data center GPU shipped in 2022, \\nwhich indicated an AI server penetration rate of only 5% or less, if we assume typically \\n4-8 GPU cards installed in an AI server. On expectation of AI data center penetration \\nrising to 20% or higher, there could be potential demand of 30m or more units of data \\ncenter GPU, which would imply estimated c.10% TSMC revenue upside in 2025E.\\nEmerging opportunity for ASIC — Traditional computer and server architectures \\nare often not efficient for AI tasks, which require large amounts of data processing \\nand complex calculations. For AI inference, which involves using a trained model to \\nmake predictions or classifications on new data, the hardware architecture may \\ninclude GPU, TPU (Tensor processing units), and FPGAs. GPUs are particularly \\npopular for AI inference because they can perform many parallel calculations \\nsimultaneously, making them ideal for processing large datasets. For AI training, \\nwhich involves updating a model based on new data, the hardware may require more \\npowerful processors such as CPUs and specialized accelerators. In addition to the \\nspecialized processors, HBM and interconnects such as Compute Express Link are \\nalso critical for training workloads. We are seeing all of the aforementioned chips \\nrequire advanced process nodes, which are mostly offered by TSMC. \\nNear-term smartphone headwinds to continue, yet AI / data center should \\nprovide longer-term upside — As we still don’t see smartphone SoC makers’ \\nrestocking in foundry, we expect TSMC’s 2Q23E sales down 8% QoQ, followed by a \\n12% QoQ recovery in 3Q23E, on the back of its N3 ramp-up for new iPhone Pro \\nseries. Despite lackluster demand in consumer market, we expect TSMC to be able \\nto outperform peers and maintain YoY flat or slightly declining revenue in 2023E. We \\nanticipate a better 2024E outlook thanks to its solid pipeline in AI and HPC. Reiterate \\nBuy with unchanged target price of NT$620. \\uf06e\\nLaura (Chia Yi) Chen AC\\n+886-2-8726-9090\\nlaura.cy.chen@citi.com\\nJack Chen\\n+886-2-8726-9091\\njack1.chen@citi.com\\n Buy \\nPrice (30 Mar 23 13:30) NT$535.00\\nTarget price NT$620.00\\nExpected share price \\nreturn15.9%\\nExpected dividend yield 2.2%\\nExpected total return 18.1%\\nMarket Cap NT$13,873,882M\\nUS$454,852M\\nPrice Performance\\n(RIC: 2330.TW, BB: 2330 TT)\\nEarnings Summary       \\n        \\nYear to Net Profit Diluted EPS EPS growth P/E P/B ROE Yield\\n31 Dec (NT$M) (NT$) (%) (x) (x) (%) (%)\\n2021A 596,540 23.00 15.2 23.3 6.4 29.7 2.1\\n2022A 1,016,530 39.20 70.4 13.6 4.7 39.6 2.1\\n2023E 872,096 33.63 -14.2 15.9 3.9 26.9 2.2\\n2024E 1,019,383 39.31 16.9 13.6 3.3 26.3 2.3\\n2025E 1,276,397 49.22 25.2 10.9 2.7 27.2 2.4\\nSource: Powered by dataCentral      Citi Research\\n A C T I O NPrepared for Maggie Lee'"
            ],
            "application/vnd.google.colaboratory.intrinsic+json": {
              "type": "string"
            }
          },
          "metadata": {},
          "execution_count": 53
        }
      ]
    },
    {
      "cell_type": "markdown",
      "source": [
        "### Splitting"
      ],
      "metadata": {
        "id": "0NTfvl-XEyLh"
      }
    },
    {
      "cell_type": "code",
      "source": [
        "import nltk\n",
        "nltk.download('punkt')"
      ],
      "metadata": {
        "colab": {
          "base_uri": "https://localhost:8080/"
        },
        "id": "7c9LwpaubX_m",
        "outputId": "853973cc-0286-4c6b-b6a9-b382d8b44473"
      },
      "execution_count": null,
      "outputs": [
        {
          "output_type": "stream",
          "name": "stderr",
          "text": [
            "[nltk_data] Downloading package punkt to /root/nltk_data...\n",
            "[nltk_data]   Unzipping tokenizers/punkt.zip.\n"
          ]
        },
        {
          "output_type": "execute_result",
          "data": {
            "text/plain": [
              "True"
            ]
          },
          "metadata": {},
          "execution_count": 55
        }
      ]
    },
    {
      "cell_type": "code",
      "source": [
        "from langchain.text_splitter import NLTKTextSplitter\n",
        "splitter = NLTKTextSplitter(chunk_size = 1000, chunk_overlap = 200 )\n",
        "chunks = splitter.split_text(pages[0].page_content)"
      ],
      "metadata": {
        "id": "AsnunST5DUAJ"
      },
      "execution_count": null,
      "outputs": []
    },
    {
      "cell_type": "code",
      "source": [
        "chunks[0]"
      ],
      "metadata": {
        "colab": {
          "base_uri": "https://localhost:8080/",
          "height": 232
        },
        "id": "rUDD4HTkbcWE",
        "outputId": "92616ee9-f62d-4510-fe6f-f41d89eca327"
      },
      "execution_count": null,
      "outputs": [
        {
          "output_type": "execute_result",
          "data": {
            "text/plain": [
              "'See Appendix A-1 for Analyst Certification, Important Disclosures and Research Analyst Affiliations.\\n\\nCiti Research is a division of Citigroup Global Markets Inc. (the \"Firm\"), which does and seeks to do business with companies covered in its research \\nreports.\\n\\nAs a result, investors should be aware that the Firm may have a conflict of interest that could affect the objectivity of this report.\\n\\nInvestors should \\nconsider this report as only a single factor in making their investment decision.\\n\\nCertain products (not inconsistent with the author\\'s published research) are \\navailable only on Citi\\'s portals.30 Mar 2023 07:47:50 ET │ 15 pages   \\n \\nTSMC (2330.TW)\\nAssessing the Potential Upside from AI \\nCITI\\'S TAKE \\nAI is witnessing a potential “iPhone moment” and should be a L-T catalyst in \\nthe semi industry, despite still small contribution at current early stage.'"
            ],
            "application/vnd.google.colaboratory.intrinsic+json": {
              "type": "string"
            }
          },
          "metadata": {},
          "execution_count": 57
        }
      ]
    },
    {
      "cell_type": "markdown",
      "source": [
        "### Embedding"
      ],
      "metadata": {
        "id": "YXhB1UoubgAH"
      }
    },
    {
      "cell_type": "code",
      "source": [
        "import numpy as np\n",
        "\n",
        "res = openai.Embedding.create(\n",
        " model=\"text-embedding-ada-002\",\n",
        " input=\"我們新上架的人工智慧語音轉文字雲服務，是一種高效、方便的文字轉換工具，可以將人類發出的語音轉換為文字。\"\n",
        ")\n",
        "\n",
        "np.array(res.data[0].embedding)"
      ],
      "metadata": {
        "colab": {
          "base_uri": "https://localhost:8080/"
        },
        "id": "BMDroyirbeIh",
        "outputId": "46342b7d-701c-459c-cf39-d6a8cd6e3b7e"
      },
      "execution_count": null,
      "outputs": [
        {
          "output_type": "execute_result",
          "data": {
            "text/plain": [
              "array([-0.02235476, -0.01564317,  0.00637924, ..., -0.00109063,\n",
              "       -0.00663415, -0.01057075])"
            ]
          },
          "metadata": {},
          "execution_count": 58
        }
      ]
    },
    {
      "cell_type": "code",
      "source": [
        "def get_embedding(input_sentence):\n",
        " res = openai.Embedding.create(\n",
        "  model=\"text-embedding-ada-002\",\n",
        "  input= input_sentence\n",
        " )\n",
        " return np.array(res.data[0].embedding)\n"
      ],
      "metadata": {
        "id": "7GF6EdlPbp7M"
      },
      "execution_count": null,
      "outputs": []
    },
    {
      "cell_type": "code",
      "source": [
        "from sklearn.metrics.pairwise import cosine_similarity\n",
        "vec_list = []\n",
        "for sentence in ['樹上的蘋果又大又紅，看起來很好吃',\n",
        "                 'iphone14 是您聖誕節不可以錯過的最佳禮物選擇',\n",
        "                 '蘋果公司執行長對iphone新機發表聲明']:\n",
        " vec = get_embedding(sentence)\n",
        " vec_list.append(vec)\n",
        "\n",
        "m = np.vstack(vec_list)\n",
        "cosine_similarity(m)\n"
      ],
      "metadata": {
        "colab": {
          "base_uri": "https://localhost:8080/"
        },
        "id": "M1UmtLjib8uf",
        "outputId": "0106d01e-96e3-41ae-d984-af8107d1af93"
      },
      "execution_count": null,
      "outputs": [
        {
          "output_type": "execute_result",
          "data": {
            "text/plain": [
              "array([[1.        , 0.79647616, 0.80737102],\n",
              "       [0.79647616, 1.        , 0.82777462],\n",
              "       [0.80737102, 0.82777462, 1.        ]])"
            ]
          },
          "metadata": {},
          "execution_count": 61
        }
      ]
    },
    {
      "cell_type": "code",
      "source": [
        "from langchain.embeddings.openai import OpenAIEmbeddings\n",
        "embedding = OpenAIEmbeddings()\n",
        "\n",
        "embedding1 = embedding.embed_query('樹上的蘋果又大又紅，看起來很好吃')\n",
        "embedding2 = embedding.embed_query('iphone14 是您聖誕節不可以錯過的最佳禮物選擇')\n",
        "embedding3 = embedding.embed_query('蘋果公司執行長對iphone新機發表聲明')"
      ],
      "metadata": {
        "id": "EB08WSHdce-8"
      },
      "execution_count": null,
      "outputs": []
    },
    {
      "cell_type": "code",
      "source": [
        "m = np.vstack([embedding1, embedding2, embedding3])\n",
        "cosine_similarity(m)"
      ],
      "metadata": {
        "colab": {
          "base_uri": "https://localhost:8080/"
        },
        "id": "8SJY9QEwcrn8",
        "outputId": "0c00b43f-bd3a-4a1d-ac11-db14a2c129fc"
      },
      "execution_count": null,
      "outputs": [
        {
          "output_type": "execute_result",
          "data": {
            "text/plain": [
              "array([[1.        , 0.79649865, 0.80748742],\n",
              "       [0.79649865, 1.        , 0.82783715],\n",
              "       [0.80748742, 0.82783715, 1.        ]])"
            ]
          },
          "metadata": {},
          "execution_count": 64
        }
      ]
    },
    {
      "cell_type": "markdown",
      "source": [
        "### VectorStore (Chroma)"
      ],
      "metadata": {
        "id": "vr9EUqsceOC5"
      }
    },
    {
      "cell_type": "code",
      "source": [
        "! pip install chromadb"
      ],
      "metadata": {
        "id": "UKkGLcageRKt"
      },
      "execution_count": null,
      "outputs": []
    },
    {
      "cell_type": "code",
      "source": [
        "! pip install tiktoken"
      ],
      "metadata": {
        "id": "vaguwacwgZnP"
      },
      "execution_count": null,
      "outputs": []
    },
    {
      "cell_type": "code",
      "source": [
        "from langchain.vectorstores import Chroma\n",
        "persist_directory = 'docs/chroma/'\n",
        "vectordb = Chroma.from_texts(\n",
        "    texts=chunks,\n",
        "    embedding = embedding,\n",
        "    persist_directory=persist_directory\n",
        ")"
      ],
      "metadata": {
        "id": "T-_-qveLeUDS"
      },
      "execution_count": null,
      "outputs": []
    },
    {
      "cell_type": "code",
      "source": [
        "len(chunks)"
      ],
      "metadata": {
        "colab": {
          "base_uri": "https://localhost:8080/"
        },
        "id": "Oh5caayMghK9",
        "outputId": "92a6888c-2651-4b8d-fdf9-1cadd3559bd3"
      },
      "execution_count": null,
      "outputs": [
        {
          "output_type": "execute_result",
          "data": {
            "text/plain": [
              "5"
            ]
          },
          "metadata": {},
          "execution_count": 77
        }
      ]
    },
    {
      "cell_type": "code",
      "source": [
        "print(vectordb._collection.count())"
      ],
      "metadata": {
        "colab": {
          "base_uri": "https://localhost:8080/"
        },
        "id": "0VTz_6kdgeFg",
        "outputId": "d7bb2465-9dad-4d02-b623-2ed74f590d3c"
      },
      "execution_count": null,
      "outputs": [
        {
          "output_type": "stream",
          "name": "stdout",
          "text": [
            "5\n"
          ]
        }
      ]
    },
    {
      "cell_type": "markdown",
      "source": [
        "### Query"
      ],
      "metadata": {
        "id": "PoqETuGehltb"
      }
    },
    {
      "cell_type": "code",
      "source": [
        "question = '#zh-tw 請問citi 對台積電的看法? 請用正體中文'\n",
        "docs = vectordb.similarity_search(question,k=3)\n",
        "docs"
      ],
      "metadata": {
        "id": "J9WqnN_jhvVh"
      },
      "execution_count": null,
      "outputs": []
    },
    {
      "cell_type": "markdown",
      "source": [
        "### Quesion & Answer"
      ],
      "metadata": {
        "id": "Qndcuis-lMMN"
      }
    },
    {
      "cell_type": "code",
      "source": [
        "from langchain.chains import RetrievalQA\n",
        "from langchain.chat_models import ChatOpenAI\n",
        "\n",
        "llm = ChatOpenAI(model_name=\"gpt-3.5-turbo-0613\", temperature=0)\n",
        "\n",
        "qa_chain = RetrievalQA.from_chain_type(\n",
        "    llm,\n",
        "    retriever=vectordb.as_retriever()\n",
        ")\n",
        "\n",
        "result = qa_chain({\"query\": '#zh-tw 請問citi 對台積電的看法? 請用正體中文'})"
      ],
      "metadata": {
        "id": "CmqpzW8nlLdz"
      },
      "execution_count": null,
      "outputs": []
    },
    {
      "cell_type": "code",
      "source": [
        "result['result']"
      ],
      "metadata": {
        "colab": {
          "base_uri": "https://localhost:8080/",
          "height": 89
        },
        "id": "d2m3bxJmlY8w",
        "outputId": "9613bac0-cf6d-470d-aa70-e38fbdd88b9a"
      },
      "execution_count": null,
      "outputs": [
        {
          "output_type": "execute_result",
          "data": {
            "text/plain": [
              "'Citi對台積電的看法是積極的。他們預計台積電在2024年將有更好的前景，這要歸功於其在人工智能和高性能計算方面的堅實項目。Citi建議繼續買入台積電股票，目標價格維持在NT$620。他們預計台積電的股價回報率為15.9%，股息收益率為2.2%，預計總回報率為18.1%。此外，根據Citi的研究，台積電在2023年和2024年的盈利預測也是積極的。'"
            ],
            "application/vnd.google.colaboratory.intrinsic+json": {
              "type": "string"
            }
          },
          "metadata": {},
          "execution_count": 94
        }
      ]
    },
    {
      "cell_type": "markdown",
      "source": [
        "##LangChain 應用開發總流程"
      ],
      "metadata": {
        "id": "-FRJPsJ8mAQV"
      }
    },
    {
      "cell_type": "markdown",
      "source": [
        "### 將所有PDF 鍵入索引資料庫"
      ],
      "metadata": {
        "id": "JJU5B-X-iP3E"
      }
    },
    {
      "cell_type": "code",
      "source": [
        "from langchain.document_loaders import PyPDFLoader\n",
        "import glob\n",
        "\n",
        "# Load PDF\n",
        "loaders = []\n",
        "for f in glob.glob('TSMC2023Q1/*'):\n",
        "  pdf_doc = PyPDFLoader(f)\n",
        "  loaders.append(pdf_doc)\n",
        "\n",
        "docs = []\n",
        "for loader in loaders:\n",
        "    docs.extend(loader.load())"
      ],
      "metadata": {
        "id": "pEOeyvFgihij"
      },
      "execution_count": null,
      "outputs": []
    },
    {
      "cell_type": "markdown",
      "source": [
        "### 分割文檔(Splitting)"
      ],
      "metadata": {
        "id": "jvqwLTWQmHsE"
      }
    },
    {
      "cell_type": "code",
      "source": [
        "from langchain.text_splitter import RecursiveCharacterTextSplitter\n",
        "splitter = NLTKTextSplitter(chunk_size = 1000, chunk_overlap = 200 )\n",
        "splits = splitter.split_documents(docs)"
      ],
      "metadata": {
        "colab": {
          "base_uri": "https://localhost:8080/"
        },
        "id": "HESXTAdOiPTC",
        "outputId": "9c8873e9-b83e-43b3-ef9a-cea1d7899696"
      },
      "execution_count": null,
      "outputs": [
        {
          "output_type": "stream",
          "name": "stderr",
          "text": [
            "WARNING:langchain.text_splitter:Created a chunk of size 1028, which is longer than the specified 1000\n",
            "WARNING:langchain.text_splitter:Created a chunk of size 1096, which is longer than the specified 1000\n",
            "WARNING:langchain.text_splitter:Created a chunk of size 1046, which is longer than the specified 1000\n",
            "WARNING:langchain.text_splitter:Created a chunk of size 1497, which is longer than the specified 1000\n",
            "WARNING:langchain.text_splitter:Created a chunk of size 3004, which is longer than the specified 1000\n",
            "WARNING:langchain.text_splitter:Created a chunk of size 1012, which is longer than the specified 1000\n",
            "WARNING:langchain.text_splitter:Created a chunk of size 1688, which is longer than the specified 1000\n",
            "WARNING:langchain.text_splitter:Created a chunk of size 1535, which is longer than the specified 1000\n",
            "WARNING:langchain.text_splitter:Created a chunk of size 1490, which is longer than the specified 1000\n",
            "WARNING:langchain.text_splitter:Created a chunk of size 1040, which is longer than the specified 1000\n",
            "WARNING:langchain.text_splitter:Created a chunk of size 5876, which is longer than the specified 1000\n",
            "WARNING:langchain.text_splitter:Created a chunk of size 2006, which is longer than the specified 1000\n",
            "WARNING:langchain.text_splitter:Created a chunk of size 3019, which is longer than the specified 1000\n",
            "WARNING:langchain.text_splitter:Created a chunk of size 1426, which is longer than the specified 1000\n",
            "WARNING:langchain.text_splitter:Created a chunk of size 2057, which is longer than the specified 1000\n",
            "WARNING:langchain.text_splitter:Created a chunk of size 2242, which is longer than the specified 1000\n",
            "WARNING:langchain.text_splitter:Created a chunk of size 1809, which is longer than the specified 1000\n",
            "WARNING:langchain.text_splitter:Created a chunk of size 1137, which is longer than the specified 1000\n",
            "WARNING:langchain.text_splitter:Created a chunk of size 1122, which is longer than the specified 1000\n",
            "WARNING:langchain.text_splitter:Created a chunk of size 3673, which is longer than the specified 1000\n",
            "WARNING:langchain.text_splitter:Created a chunk of size 1208, which is longer than the specified 1000\n",
            "WARNING:langchain.text_splitter:Created a chunk of size 1816, which is longer than the specified 1000\n"
          ]
        }
      ]
    },
    {
      "cell_type": "markdown",
      "source": [
        "### 建立索引資料庫"
      ],
      "metadata": {
        "id": "ljRrTlPrmSeL"
      }
    },
    {
      "cell_type": "code",
      "source": [
        "vectordb = Chroma.from_documents(\n",
        "    documents=splits,\n",
        "    embedding=embedding,\n",
        "    persist_directory='docs/chroma2/'\n",
        ")"
      ],
      "metadata": {
        "id": "gja8VMzxjRjU"
      },
      "execution_count": null,
      "outputs": []
    },
    {
      "cell_type": "markdown",
      "source": [
        "###  對資料庫進行問答"
      ],
      "metadata": {
        "id": "TEuFa4CnnB9-"
      }
    },
    {
      "cell_type": "code",
      "source": [
        "from langchain.chains import RetrievalQA\n",
        "from langchain.chat_models import ChatOpenAI\n",
        "\n",
        "llm = ChatOpenAI(model_name=\"gpt-3.5-turbo-0613\", temperature=0)\n",
        "\n",
        "qa_chain = RetrievalQA.from_chain_type(\n",
        "    llm,\n",
        "    retriever=vectordb.as_retriever()\n",
        ")\n",
        "\n",
        "result = qa_chain({\"query\": '#zh-tw 請問JPM對台積電目標價的看法? 請用正體中文回答'})"
      ],
      "metadata": {
        "id": "ui6qF6QOkS2k"
      },
      "execution_count": null,
      "outputs": []
    },
    {
      "cell_type": "code",
      "source": [
        "result[\"result\"]"
      ],
      "metadata": {
        "colab": {
          "base_uri": "https://localhost:8080/",
          "height": 35
        },
        "id": "Z72kTDDqkoNi",
        "outputId": "f578f4d3-8311-4e66-c7e8-bcaa3847e011"
      },
      "execution_count": null,
      "outputs": [
        {
          "output_type": "execute_result",
          "data": {
            "text/plain": [
              "'根據提供的資訊，J.P. Morgan對台積電的目標價為NT$650.0。'"
            ],
            "application/vnd.google.colaboratory.intrinsic+json": {
              "type": "string"
            }
          },
          "metadata": {},
          "execution_count": 90
        }
      ]
    },
    {
      "cell_type": "markdown",
      "source": [
        "## EmebedChain"
      ],
      "metadata": {
        "id": "lDsy2oZF5ymm"
      }
    },
    {
      "cell_type": "code",
      "source": [
        "! pip install embedchain"
      ],
      "metadata": {
        "colab": {
          "base_uri": "https://localhost:8080/"
        },
        "id": "MOc7n96m4rGA",
        "outputId": "42f800a1-c323-4f20-da02-08dcff72524b"
      },
      "execution_count": null,
      "outputs": [
        {
          "output_type": "stream",
          "name": "stdout",
          "text": [
            "Requirement already satisfied: anyio<5,>=3.4.0 in /usr/local/lib/python3.10/dist-packages (from starlette<0.28.0,>=0.27.0->fastapi>=0.85.1->chromadb>=0.3.26->embedchain) (3.7.0)\n",
            "Requirement already satisfied: mypy-extensions>=0.3.0 in /usr/local/lib/python3.10/dist-packages (from typing-inspect>=0.4.0->dataclasses-json<0.6.0,>=0.5.7->langchain>=0.0.205->embedchain) (1.0.0)\n",
            "Requirement already satisfied: humanfriendly>=9.1 in /usr/local/lib/python3.10/dist-packages (from coloredlogs->onnxruntime>=1.14.1->chromadb>=0.3.26->embedchain) (10.0)\n",
            "Requirement already satisfied: zipp>=0.5 in /usr/local/lib/python3.10/dist-packages (from importlib-metadata->clickhouse-connect>=0.5.7->chromadb>=0.3.26->embedchain) (3.15.0)\n",
            "Requirement already satisfied: MarkupSafe>=2.0 in /usr/local/lib/python3.10/dist-packages (from jinja2->torch>=1.6.0->sentence-transformers->embedchain) (2.1.3)\n",
            "Requirement already satisfied: mpmath>=0.19 in /usr/local/lib/python3.10/dist-packages (from sympy->onnxruntime>=1.14.1->chromadb>=0.3.26->embedchain) (1.3.0)\n",
            "Requirement already satisfied: sniffio>=1.1 in /usr/local/lib/python3.10/dist-packages (from anyio<5,>=3.4.0->starlette<0.28.0,>=0.27.0->fastapi>=0.85.1->chromadb>=0.3.26->embedchain) (1.3.0)\n",
            "Requirement already satisfied: exceptiongroup in /usr/local/lib/python3.10/dist-packages (from anyio<5,>=3.4.0->starlette<0.28.0,>=0.27.0->fastapi>=0.85.1->chromadb>=0.3.26->embedchain) (1.1.1)\n"
          ]
        }
      ]
    },
    {
      "cell_type": "code",
      "source": [
        "import os\n",
        "os.environ[\"OPENAI_API_KEY\"] = TOKEN"
      ],
      "metadata": {
        "id": "Jz8NmE236D7q"
      },
      "execution_count": null,
      "outputs": []
    },
    {
      "cell_type": "code",
      "source": [
        "from embedchain import App\n",
        "\n",
        "chat_bot = App()"
      ],
      "metadata": {
        "id": "o0wtFUin4w6E"
      },
      "execution_count": null,
      "outputs": []
    },
    {
      "cell_type": "code",
      "source": [
        "chat_bot.chat(\"請幫我新上架的人工智慧語音轉文字雲服務，寫個100字介紹文\")"
      ],
      "metadata": {
        "colab": {
          "base_uri": "https://localhost:8080/",
          "height": 107
        },
        "id": "GuJmHla_6F8C",
        "outputId": "1d3c0823-3b0a-4728-ff14-2d223a009937"
      },
      "execution_count": null,
      "outputs": [
        {
          "output_type": "execute_result",
          "data": {
            "text/plain": [
              "'我們最新上架的人工智慧語音轉文字雲服務是一個強大的工具，可以將語音檔案轉換為文字，並生成文字雲。這個服務使用先進的語音辨識技術，能夠準確地將語音轉換為文字，並且支援多種語言。生成的文字雲可以幫助用戶更好地理解和分析語音內容，並提取關鍵詞和主題。此外，我們的服務還提供了一個直觀易用的界面，讓用戶可以輕鬆上手並快速完成轉換和生成文字雲的操作。無論是在學術研究、商業分析還是其他領域，我們的人工智慧語音轉文字雲服務都能為您提供有價值的信息和洞察力。'"
            ],
            "application/vnd.google.colaboratory.intrinsic+json": {
              "type": "string"
            }
          },
          "metadata": {},
          "execution_count": 98
        }
      ]
    },
    {
      "cell_type": "code",
      "source": [
        "chat_bot.chat(\"請根據介紹文幫我產生一個朗朗上口的標題\")"
      ],
      "metadata": {
        "colab": {
          "base_uri": "https://localhost:8080/",
          "height": 35
        },
        "id": "wnF3jb6X6aNo",
        "outputId": "16c0231c-1bc5-45ab-e94b-70d787c4826b"
      },
      "execution_count": null,
      "outputs": [
        {
          "output_type": "execute_result",
          "data": {
            "text/plain": [
              "'「深度解析語音內容，輕鬆生成文字雲」'"
            ],
            "application/vnd.google.colaboratory.intrinsic+json": {
              "type": "string"
            }
          },
          "metadata": {},
          "execution_count": 99
        }
      ]
    },
    {
      "cell_type": "markdown",
      "source": [
        "### 利用 EmbedChain 建立ChatPDF"
      ],
      "metadata": {
        "id": "H3nDIVdWv3T0"
      }
    },
    {
      "cell_type": "code",
      "source": [
        "from embedchain import App\n",
        "bot = App()\n",
        "for f in glob.glob('TSMC2023Q1/*'):\n",
        "  bot.add('pdf_file', f)"
      ],
      "metadata": {
        "colab": {
          "base_uri": "https://localhost:8080/"
        },
        "id": "dLSBIZZ16ifv",
        "outputId": "378a50c3-2ef2-467e-b017-470d0d14611f"
      },
      "execution_count": null,
      "outputs": [
        {
          "output_type": "stream",
          "name": "stdout",
          "text": [
            "Successfully saved TSMC2023Q1/20230410 TSMC JPM.pdf. Total chunks count: 45\n",
            "Successfully saved TSMC2023Q1/20230411 TSMC GS.pdf. Total chunks count: 102\n",
            "Successfully saved TSMC2023Q1/20230410 TSMC DW.pdf. Total chunks count: 134\n",
            "Successfully saved TSMC2023Q1/20230414 TSMC NMR.pdf. Total chunks count: 188\n",
            "Successfully saved TSMC2023Q1/20230330 TSMC Citi.pdf. Total chunks count: 275\n",
            "Successfully saved TSMC2023Q1/20230331 TSMC UBS.pdf. Total chunks count: 418\n",
            "Successfully saved TSMC2023Q1/20230417 TSMC HSBC.pdf. Total chunks count: 467\n",
            "Successfully saved TSMC2023Q1/20230406 TSMC MS.pdf. Total chunks count: 546\n",
            "Successfully saved TSMC2023Q1/20230412 TSMC CL.pdf. Total chunks count: 606\n",
            "Successfully saved TSMC2023Q1/20230410 TSMC HTI.pdf. Total chunks count: 653\n"
          ]
        }
      ]
    },
    {
      "cell_type": "code",
      "source": [
        "bot.query('#zh-tw 請問JPM對台積電目標價的看法? 請用正體中文回答')"
      ],
      "metadata": {
        "colab": {
          "base_uri": "https://localhost:8080/",
          "height": 35
        },
        "id": "2lo1FMJPwSlw",
        "outputId": "ae2021f5-6cc0-4515-fb83-0cd9cc329c10"
      },
      "execution_count": null,
      "outputs": [
        {
          "output_type": "execute_result",
          "data": {
            "text/plain": [
              "'根據報告，J.P. Morgan對台積電的目標價為NT$650.0。'"
            ],
            "application/vnd.google.colaboratory.intrinsic+json": {
              "type": "string"
            }
          },
          "metadata": {},
          "execution_count": 101
        }
      ]
    },
    {
      "cell_type": "code",
      "source": [
        "bot.count()"
      ],
      "metadata": {
        "colab": {
          "base_uri": "https://localhost:8080/"
        },
        "id": "oNQGHfiIwIaq",
        "outputId": "f47f840a-530e-46ea-fa6a-f3faad1c405e"
      },
      "execution_count": null,
      "outputs": [
        {
          "output_type": "execute_result",
          "data": {
            "text/plain": [
              "653"
            ]
          },
          "metadata": {},
          "execution_count": 102
        }
      ]
    },
    {
      "cell_type": "code",
      "source": [
        "bot.reset()"
      ],
      "metadata": {
        "id": "i8wIu58ByCtr"
      },
      "execution_count": null,
      "outputs": []
    },
    {
      "cell_type": "code",
      "source": [
        "bot.count()"
      ],
      "metadata": {
        "id": "uWuUijhpyDks",
        "outputId": "1cf3b216-d81e-46bd-e3dc-483e778a26a9",
        "colab": {
          "base_uri": "https://localhost:8080/"
        }
      },
      "execution_count": null,
      "outputs": [
        {
          "output_type": "execute_result",
          "data": {
            "text/plain": [
              "0"
            ]
          },
          "metadata": {},
          "execution_count": 104
        }
      ]
    }
  ]
}